{
  "nbformat": 4,
  "nbformat_minor": 0,
  "metadata": {
    "colab": {
      "name": "lbssni.ipynb",
      "provenance": [],
      "authorship_tag": "ABX9TyMrV9x0DEDPb/lMgZdy/E9V",
      "include_colab_link": true
    },
    "kernelspec": {
      "display_name": "Python 3",
      "name": "python3"
    },
    "language_info": {
      "name": "python"
    }
  },
  "cells": [
    {
      "cell_type": "markdown",
      "metadata": {
        "id": "view-in-github",
        "colab_type": "text"
      },
      "source": [
        "<a href=\"https://colab.research.google.com/github/AtayDev/ML-Models/blob/main/lbssni.ipynb\" target=\"_parent\"><img src=\"https://colab.research.google.com/assets/colab-badge.svg\" alt=\"Open In Colab\"/></a>"
      ]
    },
    {
      "cell_type": "code",
      "metadata": {
        "id": "A6YLlTztCKtD"
      },
      "source": [
        "import pandas as pd\n",
        "import numpy as np\n",
        "\n",
        "url='https://raw.githubusercontent.com/MahnoorJaved98/Movie-Recommendation-System/main/movie_dataset.csv'\n",
        "df=pd.read_csv(url)\n",
        "df.head(2)\n"
      ],
      "execution_count": null,
      "outputs": []
    },
    {
      "cell_type": "code",
      "metadata": {
        "id": "Uj_-jQCKVhqh"
      },
      "source": [
        "df[\"overview\"]=df[\"overview\"].fillna('')"
      ],
      "execution_count": null,
      "outputs": []
    },
    {
      "cell_type": "code",
      "metadata": {
        "colab": {
          "base_uri": "https://localhost:8080/"
        },
        "id": "Bkl1_e9fWjd2",
        "outputId": "bb9c307f-1d14-4e8e-a54c-a0c9e89bb2a3"
      },
      "source": [
        "#Get the ifidf matrix\n",
        "from sklearn.feature_extraction.text import TfidfVectorizer\n",
        "\n",
        "theVectorizer=TfidfVectorizer(stop_words='english')\n",
        "\n",
        "tfidf_matrix=theVectorizer.fit_transform(df['overview'])\n",
        "\n",
        "tfidf_matrix.shape"
      ],
      "execution_count": null,
      "outputs": [
        {
          "data": {
            "text/plain": [
              "(4803, 20978)"
            ]
          },
          "execution_count": 8,
          "metadata": {},
          "output_type": "execute_result"
        }
      ]
    },
    {
      "cell_type": "code",
      "metadata": {
        "cellView": "code",
        "colab": {
          "base_uri": "https://localhost:8080/"
        },
        "id": "2eV80SYkXkw9",
        "outputId": "2f72064e-52b7-4083-c8a9-a61f1484a784"
      },
      "source": [
        "#@title Default title text\n",
        "#Compare the similarity between movies using the Cosine similarity\n",
        "from sklearn.metrics.pairwise import cosine_similarity\n",
        "\n",
        "sim_matrix=cosine_similarity(tfidf_matrix)\n",
        "print(sim_matrix[0:2])"
      ],
      "execution_count": null,
      "outputs": [
        {
          "name": "stdout",
          "output_type": "stream",
          "text": [
            "[[1.         0.         0.         ... 0.         0.         0.        ]\n",
            " [0.         1.         0.         ... 0.02160533 0.         0.        ]]\n"
          ]
        }
      ]
    },
    {
      "cell_type": "code",
      "metadata": {
        "colab": {
          "base_uri": "https://localhost:8080/"
        },
        "id": "yOXkSbaZfJqS",
        "outputId": "7d05e60e-3a5e-4024-8463-b5e504cfb8ff"
      },
      "source": [
        "#we need to get the indices of movies\n",
        "indices = pd.Series(df.index, index=df['title']).drop_duplicates()\n",
        "indices[0:10]"
      ],
      "execution_count": null,
      "outputs": [
        {
          "data": {
            "text/plain": [
              "title\n",
              "Avatar                                      0\n",
              "Pirates of the Caribbean: At World's End    1\n",
              "Spectre                                     2\n",
              "The Dark Knight Rises                       3\n",
              "John Carter                                 4\n",
              "Spider-Man 3                                5\n",
              "Tangled                                     6\n",
              "Avengers: Age of Ultron                     7\n",
              "Harry Potter and the Half-Blood Prince      8\n",
              "Batman v Superman: Dawn of Justice          9\n",
              "dtype: int64"
            ]
          },
          "execution_count": 14,
          "metadata": {},
          "output_type": "execute_result"
        }
      ]
    },
    {
      "cell_type": "code",
      "metadata": {
        "id": "S-XDPmrUfedt"
      },
      "source": [
        "#Create a get recommenations function\n",
        "def getRecommendations(title, sim_matrix=sim_matrix):\n",
        "  index_movie=indices[title]\n",
        "  sim_scores=list(enumerate(sim_matrix[index_movie]))\n",
        "  sorted_similar_movies = sorted(sim_scores, key=lambda x:x[1], reverse=True)\n",
        "  return sorted_similar_movies\n",
        "recommended_movies=getRecommendations('Spider-Man 3')"
      ],
      "execution_count": 42,
      "outputs": []
    },
    {
      "cell_type": "code",
      "metadata": {
        "colab": {
          "base_uri": "https://localhost:8080/",
          "height": 35
        },
        "id": "-mrgAMbJlna1",
        "outputId": "60dd4995-0187-4db6-edc9-de6f1d80a0c0"
      },
      "source": [
        "#gET A MOVIE TITLE BY ITS INDEX\n",
        "def get_title_from_index(index):\n",
        "  return df[df.index==index]['title']\n",
        "\n",
        "get_title_from_index(5).values[0]"
      ],
      "execution_count": 38,
      "outputs": [
        {
          "output_type": "execute_result",
          "data": {
            "application/vnd.google.colaboratory.intrinsic+json": {
              "type": "string"
            },
            "text/plain": [
              "'Spider-Man 3'"
            ]
          },
          "metadata": {},
          "execution_count": 38
        }
      ]
    },
    {
      "cell_type": "code",
      "metadata": {
        "colab": {
          "base_uri": "https://localhost:8080/"
        },
        "id": "Uga6DbE3nAr4",
        "outputId": "b21f174f-1042-4432-cfb6-b38a7f0e24ba"
      },
      "source": [
        "i=0\n",
        "for movie in recommended_movies:\n",
        "  print(get_title_from_index(movie[0]))\n",
        "  i=i+1\n",
        "  if i>15:\n",
        "    break"
      ],
      "execution_count": 43,
      "outputs": [
        {
          "output_type": "stream",
          "name": "stdout",
          "text": [
            "5    Spider-Man 3\n",
            "Name: title, dtype: object\n",
            "159    Spider-Man\n",
            "Name: title, dtype: object\n",
            "30    Spider-Man 2\n",
            "Name: title, dtype: object\n",
            "1534    Arachnophobia\n",
            "Name: title, dtype: object\n",
            "20    The Amazing Spider-Man\n",
            "Name: title, dtype: object\n",
            "38    The Amazing Spider-Man 2\n",
            "Name: title, dtype: object\n",
            "1318    The Thing\n",
            "Name: title, dtype: object\n",
            "4664    Bronson\n",
            "Name: title, dtype: object\n",
            "3610    Not Easily Broken\n",
            "Name: title, dtype: object\n",
            "4456    Raising Victor Vargas\n",
            "Name: title, dtype: object\n",
            "4276    Def-Con 4\n",
            "Name: title, dtype: object\n",
            "3383    Losin' It\n",
            "Name: title, dtype: object\n",
            "1155    Spy Kids 3-D: Game Over\n",
            "Name: title, dtype: object\n",
            "431    Charlotte's Web\n",
            "Name: title, dtype: object\n",
            "3129    Jungle Shuffle\n",
            "Name: title, dtype: object\n",
            "564    Signs\n",
            "Name: title, dtype: object\n"
          ]
        }
      ]
    }
  ]
}